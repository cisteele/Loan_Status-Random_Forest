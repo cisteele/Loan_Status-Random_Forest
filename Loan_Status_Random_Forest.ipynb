{
 "cells": [
  {
   "cell_type": "code",
   "execution_count": 1,
   "metadata": {},
   "outputs": [],
   "source": [
    "import pandas as pd\n",
    "import numpy as np\n",
    "import matplotlib.pyplot as plt\n",
    "%matplotlib inline\n",
    "from sklearn import ensemble\n",
    "from sklearn.model_selection import cross_val_score\n",
    "import pandas as pd\n",
    "import numpy as np\n",
    "import matplotlib.pyplot as plt\n",
    "import seaborn as sns\n",
    "import math\n",
    "from sklearn.preprocessing import StandardScaler\n",
    "from sklearn.decomposition import PCA\n",
    "import time\n",
    "import random\n",
    "\n",
    "# import warnings filter\n",
    "from warnings import simplefilter\n",
    "# ignore all future warnings\n",
    "simplefilter(action='ignore', category=FutureWarning)"
   ]
  },
  {
   "cell_type": "code",
   "execution_count": 2,
   "metadata": {},
   "outputs": [
    {
     "name": "stderr",
     "output_type": "stream",
     "text": [
      "C:\\Users\\CISteele\\anaconda3\\lib\\site-packages\\IPython\\core\\interactiveshell.py:3063: DtypeWarning: Columns (1,20,56) have mixed types.Specify dtype option on import or set low_memory=False.\n",
      "  interactivity=interactivity, compiler=compiler, result=result)\n"
     ]
    }
   ],
   "source": [
    "df = pd.read_csv('LoanStats3d.csv')"
   ]
  },
  {
   "cell_type": "code",
   "execution_count": 3,
   "metadata": {},
   "outputs": [
    {
     "name": "stdout",
     "output_type": "stream",
     "text": [
      "id: 421097\n",
      "term: 2\n",
      "int_rate: 110\n",
      "grade: 7\n",
      "sub_grade: 35\n",
      "emp_title: 120812\n",
      "emp_length: 11\n",
      "home_ownership: 4\n",
      "verification_status: 3\n",
      "issue_d: 12\n",
      "loan_status: 7\n",
      "pymnt_plan: 1\n",
      "url: 421095\n",
      "desc: 34\n",
      "purpose: 14\n",
      "title: 27\n",
      "zip_code: 914\n",
      "addr_state: 49\n",
      "earliest_cr_line: 668\n",
      "revol_util: 1211\n",
      "initial_list_status: 2\n",
      "last_pymnt_d: 25\n",
      "next_pymnt_d: 4\n",
      "last_credit_pull_d: 26\n",
      "application_type: 2\n",
      "verification_status_joint: 3\n"
     ]
    }
   ],
   "source": [
    "categorical = df.select_dtypes(include=['object'])\n",
    "for i in categorical:\n",
    "    column = categorical[i]\n",
    "    print(i + ': ' + str(column.nunique()))"
   ]
  },
  {
   "cell_type": "code",
   "execution_count": 4,
   "metadata": {},
   "outputs": [],
   "source": [
    "# Convert ID and Interest Rate to numeric.\n",
    "df['id'] = pd.to_numeric(df['id'], errors='coerce')\n",
    "df['int_rate'] = pd.to_numeric(df['int_rate'].str.strip('%'), errors='coerce')\n",
    "\n",
    "# Drop other columns with many unique variables (greater than 30)\n",
    "df.drop(['url', 'emp_title', 'zip_code', 'earliest_cr_line', 'revol_util',\n",
    "            'sub_grade', 'addr_state', 'desc'], 1, inplace=True)\n",
    "\n",
    "# Drop columns with no predictive power (id numbers)\n",
    "df.drop(['Unnamed: 0', 'id', 'member_id', ], 1, inplace=True)\n",
    "\n",
    "# Remove two summary rows at the end that don't actually contain data.\n",
    "df = df[:-2]"
   ]
  },
  {
   "cell_type": "code",
   "execution_count": 5,
   "metadata": {},
   "outputs": [],
   "source": [
    "rfc = ensemble.RandomForestClassifier(n_estimators=10, max_depth = 10)\n",
    "X = df.drop('loan_status', 1)\n",
    "Y = df['loan_status']\n",
    "X = pd.get_dummies(X, drop_first=True) # change categorical variables to dummy fields\n",
    "X = X.dropna(axis=1)"
   ]
  },
  {
   "cell_type": "code",
   "execution_count": 6,
   "metadata": {},
   "outputs": [],
   "source": [
    "# Normalize the data so that all variables have a mean of 0 and standard deviation of 1.\n",
    "X_norm = StandardScaler().fit_transform(X)\n",
    "\n",
    "# The NumPy covariance function assumes that variables are represented by rows, not columns, so we transpose X.\n",
    "Xt = X_norm.T\n",
    "Cx = np.cov(Xt)"
   ]
  },
  {
   "cell_type": "code",
   "execution_count": 7,
   "metadata": {},
   "outputs": [
    {
     "data": {
      "image/png": "[encoded data removed]",
      "text/plain": [
       "<Figure size 864x432 with 1 Axes>"
      ]
     },
     "metadata": {
      "needs_background": "light"
     },
     "output_type": "display_data"
    },
    {
     "name": "stdout",
     "output_type": "stream",
     "text": [
      "[ 1.06038134e+01  6.08884648e+00  5.22096812e+00  4.27903721e+00\n",
      "  3.72052215e+00  3.08132895e+00  2.59176727e+00  2.54704994e+00\n",
      "  2.32967757e+00  2.18914696e+00  2.05784323e+00  2.03923056e+00\n",
      "  1.94338700e+00  2.01875763e+00  2.01168933e+00  1.99552236e+00\n",
      "  1.99959947e+00  2.00206419e+00  1.88169540e+00  1.77430533e+00\n",
      "  1.69643067e+00  1.57034122e+00  1.55674779e+00  1.52592350e+00\n",
      "  1.52080319e+00  2.36508263e-01  1.97623265e-01  2.11874927e-01\n",
      "  2.05542034e-01  2.89586887e-01  3.28649916e-01  3.44522543e-01\n",
      "  3.74671940e-01  1.45512782e+00  1.42977028e+00  1.42540324e+00\n",
      "  1.40077465e+00  1.39245302e+00  1.37806422e+00  1.36809486e+00\n",
      "  1.35918361e+00  1.34285079e+00  1.33093995e+00  1.32349414e+00\n",
      "  3.96846288e-01  4.45602506e-01  1.49525259e-01  1.39284673e-01\n",
      "  1.27909829e-01  1.16689432e-01  1.14597504e-01  4.55276872e-01\n",
      "  4.81846763e-01  4.99945412e-01  1.30004454e+00  1.28950462e+00\n",
      "  1.27820850e+00  1.26507838e+00  1.24875932e+00  5.29388909e-01\n",
      "  5.52551800e-01  5.74559512e-01  8.80078848e-02  7.53804687e-02\n",
      "  7.15772998e-02  6.46050941e-02  6.84998590e-02  5.93774247e-01\n",
      "  1.23622774e+00  6.13189733e-01  6.00362537e-01  6.01809942e-01\n",
      "  6.25977793e-01  3.68795872e-02  2.66194789e-02  2.72066829e-02\n",
      "  1.22242742e+00  1.20878489e+00  1.18955447e+00  1.18205925e+00\n",
      "  6.50424583e-01  6.62096241e-01  6.81961704e-01  6.86740300e-01\n",
      "  6.94002943e-01  7.06486709e-01  7.19231122e-01  1.16735528e+00\n",
      "  7.04555548e-01  7.30033772e-01  7.52173607e-01  1.19705421e-02\n",
      "  1.54663834e-02  1.48527096e-02  1.41118167e-02  1.16447282e+00\n",
      "  1.15595415e+00  1.15225634e+00  7.59166798e-01  7.65678264e-01\n",
      "  7.79318987e-01  7.95651196e-01  8.05430507e-01  8.12628320e-01\n",
      "  8.25294025e-01  8.36114019e-01  1.13796300e+00  6.74275823e-03\n",
      "  3.57620976e-03  5.10924256e-03  4.75253554e-03  4.33410406e-03\n",
      "  1.13320193e+00  1.12498015e+00  1.10880903e+00  8.75223131e-01\n",
      "  8.49466384e-01  8.64198092e-01  8.61063885e-01  8.57064904e-01\n",
      "  4.12891826e-03  1.09628180e+00  1.09397190e+00  2.68414559e-03\n",
      "  2.54715776e-03  1.93076522e-03  2.02713665e-03  1.09897084e-03\n",
      "  1.67616781e-03  9.27147692e-01  9.40483214e-01  6.28962340e-04\n",
      "  1.08785668e+00  1.08431091e+00  1.08162723e+00  1.07863097e+00\n",
      "  1.07322830e+00  1.06897484e+00  1.06175983e+00  1.06296830e+00\n",
      "  1.05827233e+00  1.32947346e-04  9.69580146e-01  9.73792970e-01\n",
      "  9.76593448e-01  9.78580921e-01  1.05601918e+00  1.02501849e+00\n",
      "  1.02935850e+00  1.04906676e+00  1.04762313e+00  1.04374734e+00\n",
      "  1.04502677e+00  1.03517252e+00  1.20342714e-05  8.09750474e-06\n",
      "  1.41136084e-06  1.89333932e-07 -1.96425139e-16  1.86603085e-15\n",
      " -2.26867882e-17  9.86401710e-01  1.01415982e+00  1.01279134e+00\n",
      "  9.94865479e-01  1.00538709e+00  9.96644519e-01  9.97317356e-01\n",
      "  9.97806726e-01  9.97995777e-01  9.98383089e-01  9.98912759e-01\n",
      "  1.00039585e+00  1.00024703e+00  9.99070244e-01  9.99294273e-01\n",
      "  9.99559040e-01  9.99505211e-01  1.00009140e+00  9.99771145e-01\n",
      "  9.99843309e-01  9.99970857e-01  9.99935720e-01  0.00000000e+00]\n"
     ]
    }
   ],
   "source": [
    "# Calculating eigenvalues and eigenvectors.\n",
    "eig_val_cov, eig_vec_cov = np.linalg.eig(Cx)\n",
    "\n",
    "# Print scree plot\n",
    "plt.figure(figsize = (12, 6))\n",
    "plt.plot(eig_val_cov)\n",
    "plt.xticks(np.arange(0, 200, 5))\n",
    "plt.show()\n",
    "\n",
    "print(eig_val_cov)"
   ]
  },
  {
   "cell_type": "markdown",
   "metadata": {},
   "source": [
    "In the scree plot above, the decrease in error levels off at about 14 features.  Thus we will reduce dimensions to that number of fields using Principle Compnent Analysis."
   ]
  },
  {
   "cell_type": "code",
   "execution_count": 8,
   "metadata": {},
   "outputs": [
    {
     "name": "stdout",
     "output_type": "stream",
     "text": [
      "The percentage of total variance in the dataset explained by each component from Sklearn PCA.\n",
      " [0.0579442  0.03327231 0.02852981 0.02338265 0.02033062 0.01683731\n",
      " 0.01415869 0.01390645 0.01267673 0.01191751 0.01122845 0.01111534\n",
      " 0.01100337 0.01095608]\n"
     ]
    }
   ],
   "source": [
    "# Reduce dimensions to 14 using PCA\n",
    "pca = PCA(n_components=14)\n",
    "pca_X_norm = pca.fit_transform(X_norm)\n",
    "\n",
    "P = eig_vec_cov[:, 0]\n",
    "\n",
    "# Transform X into Y.\n",
    "Yt = P.T.dot(Xt)\n",
    "\n",
    "print(\n",
    "    'The percentage of total variance in the dataset explained by each',\n",
    "    'component from Sklearn PCA.\\n',\n",
    "    pca.explained_variance_ratio_\n",
    ")"
   ]
  },
  {
   "cell_type": "code",
   "execution_count": 9,
   "metadata": {},
   "outputs": [],
   "source": [
    "X_pca = pd.DataFrame(pca_X_norm)"
   ]
  },
  {
   "cell_type": "code",
   "execution_count": 10,
   "metadata": {},
   "outputs": [
    {
     "name": "stdout",
     "output_type": "stream",
     "text": [
      "[0.91155203 0.92125292 0.92517128 0.93068073 0.90882105]\n",
      "74.5807478427887 seconds\n"
     ]
    }
   ],
   "source": [
    "# Timing cross validation of the random forest classifier on reduced dataframe\n",
    "start = time.time()\n",
    "# Score the classifier on the standardized and reduced dataset\n",
    "print(cross_val_score(rfc, X_pca, Y, cv=5))\n",
    "end = time.time()\n",
    "print(str(end - start) + ' seconds')"
   ]
  },
  {
   "cell_type": "code",
   "execution_count": 11,
   "metadata": {},
   "outputs": [
    {
     "name": "stdout",
     "output_type": "stream",
     "text": [
      "[0.96999489 0.96452107 0.96649212 0.96551847 0.96548285]\n",
      "56.871901512145996 seconds\n"
     ]
    }
   ],
   "source": [
    "# Timing cross validation of the random forest classifier on original dataframe\n",
    "start = time.time()\n",
    "# Score the classifier on the unm,odified dataset\n",
    "print(cross_val_score(rfc, X, Y, cv=5))\n",
    "end = time.time()\n",
    "print(str(end - start) + ' seconds')"
   ]
  },
  {
   "cell_type": "code",
   "execution_count": 12,
   "metadata": {},
   "outputs": [
    {
     "data": {
      "text/plain": [
       "RandomForestClassifier(bootstrap=True, ccp_alpha=0.0, class_weight=None,\n",
       "                       criterion='gini', max_depth=10, max_features='auto',\n",
       "                       max_leaf_nodes=None, max_samples=None,\n",
       "                       min_impurity_decrease=0.0, min_impurity_split=None,\n",
       "                       min_samples_leaf=1, min_samples_split=2,\n",
       "                       min_weight_fraction_leaf=0.0, n_estimators=10,\n",
       "                       n_jobs=None, oob_score=False, random_state=None,\n",
       "                       verbose=0, warm_start=False)"
      ]
     },
     "execution_count": 12,
     "metadata": {},
     "output_type": "execute_result"
    }
   ],
   "source": [
    "rfc.fit(X_pca, Y)"
   ]
  },
  {
   "cell_type": "code",
   "execution_count": 13,
   "metadata": {},
   "outputs": [
    {
     "name": "stdout",
     "output_type": "stream",
     "text": [
      "Index 192864 is Current with confidence 1.0\n"
     ]
    }
   ],
   "source": [
    "# Predict the status of a random entry in the standardized and reduced dataframe\n",
    "record_index = random.randint(0, len(Y))\n",
    "print('Index ' + str(record_index) + ' is ' + str(rfc.predict(X_pca[record_index:record_index+1])[0]) + ' with confidence ' + str(rfc.score(X_pca[record_index:record_index+1], Y[record_index:record_index+1])))"
   ]
  },
  {
   "cell_type": "code",
   "execution_count": 14,
   "metadata": {},
   "outputs": [
    {
     "data": {
      "text/plain": [
       "RandomForestClassifier(bootstrap=True, ccp_alpha=0.0, class_weight=None,\n",
       "                       criterion='gini', max_depth=10, max_features='auto',\n",
       "                       max_leaf_nodes=None, max_samples=None,\n",
       "                       min_impurity_decrease=0.0, min_impurity_split=None,\n",
       "                       min_samples_leaf=1, min_samples_split=2,\n",
       "                       min_weight_fraction_leaf=0.0, n_estimators=10,\n",
       "                       n_jobs=None, oob_score=False, random_state=None,\n",
       "                       verbose=0, warm_start=False)"
      ]
     },
     "execution_count": 14,
     "metadata": {},
     "output_type": "execute_result"
    }
   ],
   "source": [
    "rfc.fit(X, Y)"
   ]
  },
  {
   "cell_type": "code",
   "execution_count": 15,
   "metadata": {},
   "outputs": [
    {
     "name": "stdout",
     "output_type": "stream",
     "text": [
      "Index 290762 is Fully Paid with confidence 1.0\n"
     ]
    }
   ],
   "source": [
    "# Predict the status of a random entry in the original data\n",
    "record_index = random.randint(0, len(Y))\n",
    "print('Index ' + str(record_index) + ' is ' + str(rfc.predict(X[record_index:record_index+1])[0]) + ' with confidence ' + str(rfc.score(X[record_index:record_index+1], Y[record_index:record_index+1])))"
   ]
  }
 ],
 "metadata": {
  "kernelspec": {
   "display_name": "Python 3",
   "language": "python",
   "name": "python3"
  },
  "language_info": {
   "codemirror_mode": {
    "name": "ipython",
    "version": 3
   },
   "file_extension": ".py",
   "mimetype": "text/x-python",
   "name": "python",
   "nbconvert_exporter": "python",
   "pygments_lexer": "ipython3",
   "version": "3.7.6"
  }
 },
 "nbformat": 4,
 "nbformat_minor": 2
}
